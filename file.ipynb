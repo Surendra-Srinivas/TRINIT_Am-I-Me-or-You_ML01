{
 "cells": [
  {
   "cell_type": "code",
   "execution_count": 2,
   "metadata": {},
   "outputs": [],
   "source": [
    "import tensorflow as tf"
   ]
  },
  {
   "cell_type": "code",
   "execution_count": null,
   "metadata": {},
   "outputs": [],
   "source": [
    "def generator(latentsize):\n",
    "    model  = tf.keras.Sequential()\n",
    "    model.add(tf.keras.layers.Dense(1024, input_shape = (latentsize,)))\n",
    "    model.add(tf.keras.layers.LeakyReLU(0.001))\n",
    "    model.add(tf.keras.layers.BatchNormalization(0.9))\n",
    "    model.add(tf.keras.layers.Reshape((1000,1)))\n",
    "    model.add(tf.keras.layers.Conv1D(32, 20, padding = 'same'))\n",
    "    model.add(tf.keras.layers.ReLU())\n",
    "    model.add(tf.keras.layers.BatchNormalization(0.9))\n",
    "    model.add(tf.keras.layers.Dropout(0.1))\n",
    "    model.add(tf.keras.layers.Conv1D(64, 20, padding = 'same'))\n",
    "    model.add(tf.keras.layers.ReLU())\n",
    "    model.add(tf.keras.layers.BatchNormalization(0.9))\n",
    "    model.add(tf.keras.layers.Dropout(0.1))\n",
    "    model.add(tf.keras.layers.Conv1D(64, 20, padding = 'same'))\n",
    "    model.add(tf.keras.layers.ReLU())\n",
    "    model.add(tf.keras.layers.BatchNormalization(0.9))\n",
    "    model.add(tf.keras.layers.Dropout(0.1))\n",
    "    model.add(tf.keras.layers.Conv1D(128, 20, padding = 'same'))\n",
    "    model.add(tf.keras.layers.ReLU())\n",
    "    model.add(tf.keras.layers.BatchNormalization(0.9))\n",
    "    model.add(tf.keras.layers.Dropout(0.3))\n",
    "    model.add(tf.keras.layersFlatten())\n",
    "\n",
    "    return model\n",
    "\n",
    "def discriminator(Inputshape):\n",
    "    model  = tf.keras.Sequential()\n",
    "    model.add(tf.keras.Reshape((Inputshape, 1), input_shape = (Inputshape,)))\n",
    "    model.add(tf.keras.layers.Conv1D(32, 100, strides = 7, padding = 'valid'))\n",
    "    model.add(tf.keras.layers.ReLU())\n",
    "    model.add(tf.keras.layers.AveragePooling1D(4))\n",
    "    model.add(tf.keras.layers.BatchNormalization(0.9))\n",
    "    model.add(tf.keras.layers.Dropout(0.1))\n",
    "    \n",
    "    model.add(tf.keras.layers.Conv1D(16, 50, strides = 50, padding = 'valid'))\n",
    "    model.add(tf.keras.layers.ReLU())\n",
    "    model.add(tf.keras.layers.BatchNormalization(0.9))\n",
    "    model.add(tf.keras.layers.Dropout(0.1))\n",
    "\n",
    "    model.add(tf.keras.layers.Conv1D(8, 25, strides = 3, padding = 'valid'))\n",
    "    model.add(tf.keras.layers.ReLU())\n",
    "    model.add(tf.keras.layers.BatchNormalization(0.9))\n",
    "    model.add(tf.keras.layers.Dropout(0.1))\n",
    "    model.add(tf.keras.layers.Flatten())\n",
    "\n",
    "    model.add(tf.keras.layers.Dense(1024))\n",
    "    model.add(tf.keras.layers.LeakyReLU(0.001))\n",
    "    model.add(tf.keras.layers.BatchNormalization(0.9))\n",
    "    model.add(tf.keras.layers.Dense(1, activation = 'sigmoid'))\n",
    "\n",
    "def GAN(Generator, Discriminator):\n",
    "    model = tf.keras.model.Sequential()\n",
    "    model.add(Generator)\n",
    "    model.add(Discriminator)\n",
    "    return model\n",
    "\n",
    "def Encoder(Inputshape, EncodeSize):\n",
    "    model = tf.keras.Sequential()\n",
    "    model.add(tf.keras.layers.Conv1D(64, 100, strides =7, padding = 'valid'))\n",
    "    model.add(tf.keras.layers.Conv1D(32, 50, strides=5, padding='valid'))\n",
    "    model.add(tf.keras.layers.Conv1D(8, 25, strides = 3, padding = 'valid'))\n",
    "    model.add(tf.keras.layers.Flatten())\n",
    "    model.add(tf.keras.Dense(EncodeSize))\n",
    "    model.add(tf.keras.LeakyReLU(0.001))\n",
    "\n",
    "    return model\n",
    "\n",
    "def autoEncoder(Encoder, Generator):\n",
    "    model = tf.keras.Sequential()\n",
    "    model.add(Encoder)\n",
    "    model.add(Generator)\n",
    "\n",
    "    return model"
   ]
  }
 ],
 "metadata": {
  "kernelspec": {
   "display_name": "Python 3",
   "language": "python",
   "name": "python3"
  },
  "language_info": {
   "codemirror_mode": {
    "name": "ipython",
    "version": 3
   },
   "file_extension": ".py",
   "mimetype": "text/x-python",
   "name": "python",
   "nbconvert_exporter": "python",
   "pygments_lexer": "ipython3",
   "version": "3.10.2"
  },
  "orig_nbformat": 4,
  "vscode": {
   "interpreter": {
    "hash": "aee8b7b246df8f9039afb4144a1f6fd8d2ca17a180786b69acc140d282b71a49"
   }
  }
 },
 "nbformat": 4,
 "nbformat_minor": 2
}
